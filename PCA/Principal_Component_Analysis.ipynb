{
  "nbformat": 4,
  "nbformat_minor": 0,
  "metadata": {
    "colab": {
      "provenance": []
    },
    "kernelspec": {
      "name": "python3",
      "display_name": "Python 3"
    },
    "language_info": {
      "name": "python"
    }
  },
  "cells": [
    {
      "cell_type": "code",
      "source": [
        "import numpy as np\n",
        "import matplotlib.pyplot as plt\n",
        "from sklearn.datasets import make_classification"
      ],
      "metadata": {
        "id": "3FKuJ3HLoUqC"
      },
      "execution_count": 1,
      "outputs": []
    },
    {
      "cell_type": "code",
      "source": [
        "np.random.seed(42)\n",
        "X, _ = make_classification(\n",
        "    n_samples=500,\n",
        "    n_features=50,\n",
        "    n_informative=30,\n",
        "    n_redundant=10,\n",
        "    random_state=42\n",
        ")\n",
        "print(X[:3])\n",
        "print(X.shape)"
      ],
      "metadata": {
        "colab": {
          "base_uri": "https://localhost:8080/"
        },
        "id": "dFFGzNmqoWcz",
        "outputId": "3b6db907-2692-470f-f6a9-c2e3851e9965"
      },
      "execution_count": 4,
      "outputs": [
        {
          "output_type": "stream",
          "name": "stdout",
          "text": [
            "[[ 9.71024813e+00 -1.33379755e+00  2.72416424e+00 -5.46687822e-01\n",
            "   3.97404033e-01  1.37451971e+00  1.51838648e+01  5.89023080e-01\n",
            "   1.25004029e+00 -7.85867623e-01  2.18369324e+00 -5.47233940e+00\n",
            "  -9.74645867e-01 -1.59843585e+00  4.41002631e+00  8.00268737e-01\n",
            "  -1.04786631e+00 -3.76392848e-01  1.86357335e+00 -3.43568958e+00\n",
            "  -1.34744251e+00 -1.35885321e+00  1.10326470e+00  4.57391290e-02\n",
            "   1.99154853e+00  3.15801187e+00 -8.78096937e+00  1.64582294e+00\n",
            "  -3.59888034e+00  3.49941835e-01  1.25393180e+00  3.54375120e+00\n",
            "   6.69441385e+00  2.91168554e+00  1.43594648e+01  5.12583153e-01\n",
            "   4.24372418e+00 -1.80649937e+01  1.86871355e+00  5.89947402e-01\n",
            "  -1.85165696e+00 -1.05448202e+01 -4.30024219e-01  2.47089777e+00\n",
            "  -2.00258121e+00 -6.68384212e+00  5.80421940e-01 -1.07166395e+01\n",
            "  -1.34615433e-01  4.10194810e+00]\n",
            " [-5.35070012e-01  3.26638114e+00  1.79949587e+00 -8.75209201e-01\n",
            "   2.34801851e+00 -1.83820231e+00  9.66776042e+00  3.58909981e-01\n",
            "  -2.09784474e-01  9.04385701e+00  4.64105312e+00 -3.33745419e+00\n",
            "   1.08594586e+00  5.43819883e+00  5.63507139e+00  3.65669521e+00\n",
            "   4.44479188e-02  5.94254238e-01 -3.46096709e+00  3.99281343e+00\n",
            "   4.21261648e+00  5.57619426e+00  7.41862395e-01  1.04274663e+00\n",
            "   1.00767403e-01  7.17697147e+00  1.14994505e+00 -3.54458037e+00\n",
            "  -3.41372617e+00  1.42884587e+00 -2.11502007e-01  2.57460613e+00\n",
            "  -2.96089908e+00  2.81154672e+01  7.98815117e+00  1.33280173e+00\n",
            "   2.00739666e+00  5.16107211e+00 -1.36147221e+00 -1.82958891e+00\n",
            "  -7.80975293e-01  1.31466346e+00 -2.15093365e+00 -6.50251884e-01\n",
            "   2.61666991e+00 -3.37882510e+00  6.09285116e-01  4.84917537e+00\n",
            "   1.81615215e-01  2.23835423e+00]\n",
            " [ 5.26974361e+00  1.61534233e+00 -4.95699623e-02 -5.51432812e-01\n",
            "   8.26290125e-01  1.03624954e+00 -4.36655532e-02  2.55354342e-01\n",
            "  -6.66138789e-01  2.06448335e+00 -3.48207023e+00  5.37883159e+00\n",
            "  -1.08848777e+00 -1.99355488e+00  5.19825613e+00  3.64964863e+00\n",
            "   7.77508667e-01  1.18354983e+00 -2.02104972e+00 -6.87341311e+00\n",
            "   1.14226351e+00  3.26726068e+00  1.64747831e+00  1.46921344e+00\n",
            "   3.04306607e-01 -5.55731670e+00  3.49763727e+00  2.11947131e+00\n",
            "   2.19069158e+00  1.52261090e+01 -1.66618924e+00 -5.93576721e+00\n",
            "  -1.12515654e+00  4.52836999e+00 -4.09273333e+00 -1.32217296e+00\n",
            "   8.75146218e-01  8.71636008e+00  6.22026630e+00  1.19648443e+00\n",
            "  -1.04912873e+00  3.44181240e+00 -4.46611427e-02 -1.83040428e+00\n",
            "  -1.75116305e+00  2.21899472e+00 -2.54113693e-02  1.33009533e+01\n",
            "   2.26226281e-01  4.75913526e+00]]\n",
            "(500, 50)\n"
          ]
        }
      ]
    },
    {
      "cell_type": "code",
      "source": [
        "##Normalize\n",
        "X = X - np.mean(X, axis = 0)"
      ],
      "metadata": {
        "id": "5sbytLfHoqEF"
      },
      "execution_count": 5,
      "outputs": []
    },
    {
      "cell_type": "code",
      "source": [
        "##Generate Covariance matrix\n",
        "cov_matrix = np.cov(X, rowvar=False)\n",
        "print(cov_matrix.shape)"
      ],
      "metadata": {
        "colab": {
          "base_uri": "https://localhost:8080/"
        },
        "id": "SQDvremAo7Ea",
        "outputId": "982b1b0c-304a-4537-b139-d790fa0cd374"
      },
      "execution_count": 10,
      "outputs": [
        {
          "output_type": "stream",
          "name": "stdout",
          "text": [
            "(50, 50)\n"
          ]
        }
      ]
    },
    {
      "cell_type": "code",
      "source": [
        "##Eigen Decomposition\n",
        "eigenvalues, eigenvectors = np.linalg.eig(cov_matrix)\n",
        "print(eigenvalues.shape)\n",
        "print(eigenvectors.shape)\n",
        "print(eigenvectors[0].shape)"
      ],
      "metadata": {
        "colab": {
          "base_uri": "https://localhost:8080/"
        },
        "id": "afDy6BDMpAsJ",
        "outputId": "84ffd659-30a5-4b41-c02d-08c82137eb12"
      },
      "execution_count": 13,
      "outputs": [
        {
          "output_type": "stream",
          "name": "stdout",
          "text": [
            "(50,)\n",
            "(50, 50)\n",
            "(50,)\n"
          ]
        }
      ]
    },
    {
      "cell_type": "code",
      "source": [
        "##Taking the eigen vectors with highest k eigen values\n",
        "indexes = np.argsort(eigenvalues)[::-1]\n",
        "eigenvalues = eigenvalues[indexes]\n",
        "eigenvectors = eigenvectors[:, indexes]\n",
        "k = 3\n",
        "eigenvectors = eigenvectors[:, :k]"
      ],
      "metadata": {
        "id": "2XVG6dnJpJIm"
      },
      "execution_count": 14,
      "outputs": []
    },
    {
      "cell_type": "code",
      "source": [
        "##PCA\n",
        "X = np.dot(X, eigenvectors)\n",
        "print(X[:3])\n",
        "print(X.shape) ##Reduced to dimension of k"
      ],
      "metadata": {
        "colab": {
          "base_uri": "https://localhost:8080/"
        },
        "id": "LSkRogwMpoIo",
        "outputId": "7e150793-bd13-478a-ab40-a73f55293177"
      },
      "execution_count": 16,
      "outputs": [
        {
          "output_type": "stream",
          "name": "stdout",
          "text": [
            "[[ 14.10344289+0.j  21.96660462+0.j  -2.10484598+0.j]\n",
            " [  9.58991958+0.j  15.05233052+0.j  -9.85981932+0.j]\n",
            " [-15.04701561+0.j   0.72760985+0.j   0.2337782 +0.j]]\n",
            "(500, 3)\n"
          ]
        }
      ]
    }
  ]
}