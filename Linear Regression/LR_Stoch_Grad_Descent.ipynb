{
  "cells": [
    {
      "cell_type": "code",
      "execution_count": 1,
      "metadata": {
        "id": "d-pAaiBWWQsy"
      },
      "outputs": [],
      "source": [
        "import numpy as np"
      ]
    },
    {
      "cell_type": "code",
      "execution_count": 2,
      "metadata": {
        "colab": {
          "base_uri": "https://localhost:8080/"
        },
        "id": "NldGJYOor8fI",
        "outputId": "dbade3b8-983c-4a20-c8e7-d6e2d99ba55b"
      },
      "outputs": [
        {
          "name": "stdout",
          "output_type": "stream",
          "text": [
            "[[1 2 3]\n",
            " [2 3 4]\n",
            " [3 4 5]\n",
            " [4 5 6]\n",
            " [5 6 7]]\n",
            "[[ 6]\n",
            " [ 7]\n",
            " [ 8]\n",
            " [ 9]\n",
            " [10]]\n"
          ]
        }
      ],
      "source": [
        "## N training examples\n",
        "## M features\n",
        "\n",
        "X = np.array([[1, 2, 3],\n",
        "              [2, 3, 4],\n",
        "              [3, 4, 5],\n",
        "              [4, 5, 6],\n",
        "              [5, 6, 7]])\n",
        "\n",
        "Y = Y = np.array([[6],\n",
        "              [7],\n",
        "              [8],\n",
        "              [9],\n",
        "              [10]])\n",
        "print(X)\n",
        "print(Y) ## Nx1 matrix"
      ]
    },
    {
      "cell_type": "markdown",
      "metadata": {},
      "source": [
        "###### X is a NxM matrix and Y is a Nx1 matrix"
      ]
    },
    {
      "cell_type": "markdown",
      "metadata": {},
      "source": [
        "#### Implementation of Linear Regression with minimizing Least Square error cost"
      ]
    },
    {
      "cell_type": "markdown",
      "metadata": {},
      "source": [
        "###### We add the column of X0 where all X0s are 1s to X so that the matrix multiplication in the next steps becomes easier. This makes X a NxM+1 matrix"
      ]
    },
    {
      "cell_type": "code",
      "execution_count": 3,
      "metadata": {
        "colab": {
          "base_uri": "https://localhost:8080/"
        },
        "id": "5rwP8ypZsCJH",
        "outputId": "961346f9-00ab-43f6-dee0-3649d177d70b"
      },
      "outputs": [
        {
          "data": {
            "text/plain": [
              "array([[1., 1., 2., 3.],\n",
              "       [1., 2., 3., 4.],\n",
              "       [1., 3., 4., 5.],\n",
              "       [1., 4., 5., 6.],\n",
              "       [1., 5., 6., 7.]])"
            ]
          },
          "execution_count": 3,
          "metadata": {},
          "output_type": "execute_result"
        }
      ],
      "source": [
        "X = np.c_[np.ones((X.shape[0], 1)), X]\n",
        "X"
      ]
    },
    {
      "cell_type": "markdown",
      "metadata": {},
      "source": [
        "###### We set our initial learning rate. We can play around with this rate, to control the amount of gradient descent has effect on params. Larger rate makes the descent rapid but can cause cost to sway other way, where as smaller rate can cause the gradient descent steps to have very less effect.\n",
        "###### We set the number of iterations as well. Can play around till the cost is minimized after a point.\n",
        "###### Updated m = M+1 and n = N"
      ]
    },
    {
      "cell_type": "code",
      "execution_count": 4,
      "metadata": {
        "id": "P-0HhsfrsFe9"
      },
      "outputs": [],
      "source": [
        "learning_rate = 0.005\n",
        "n_iterations = 1000\n",
        "m = X.shape[1]\n",
        "n = X.shape[0]"
      ]
    },
    {
      "cell_type": "markdown",
      "metadata": {},
      "source": [
        "###### Setting the initial params values. Can set all to 0 as well."
      ]
    },
    {
      "cell_type": "code",
      "execution_count": 5,
      "metadata": {
        "colab": {
          "base_uri": "https://localhost:8080/"
        },
        "id": "3Wx2-F_HsIzY",
        "outputId": "3e70d0bc-9d81-419e-9699-f8e0c0a77d09"
      },
      "outputs": [
        {
          "data": {
            "text/plain": [
              "(4, 1)"
            ]
          },
          "execution_count": 5,
          "metadata": {},
          "output_type": "execute_result"
        }
      ],
      "source": [
        "weights = np.random.rand(m, 1)\n",
        "weights.shape"
      ]
    },
    {
      "cell_type": "markdown",
      "metadata": {},
      "source": [
        "#### Stochastic Gradient Descent"
      ]
    },
    {
      "cell_type": "markdown",
      "metadata": {},
      "source": [
        "###### Running stochastic gradient descent where the cost is computed for each example and then the params are updated by multiplying with the learning rate. Then this is looped for all examples."
      ]
    },
    {
      "cell_type": "code",
      "execution_count": 6,
      "metadata": {
        "colab": {
          "base_uri": "https://localhost:8080/"
        },
        "id": "9S0FKRtBsMEg",
        "outputId": "fc3c70a3-7ee9-44a1-93ac-2a3b91d0d82a"
      },
      "outputs": [
        {
          "data": {
            "text/plain": [
              "array([[ 1.8848451 ],\n",
              "       [-0.79925266],\n",
              "       [ 0.48412429],\n",
              "       [ 1.31525229]])"
            ]
          },
          "execution_count": 6,
          "metadata": {},
          "output_type": "execute_result"
        }
      ],
      "source": [
        "for _ in range(n_iterations):\n",
        "  for i in range(n):\n",
        "    weights = weights -  learning_rate * (X[i].reshape(m, 1) @ ((X[i].reshape(1, m) @ weights) - Y[i].reshape(1, 1)))\n",
        "weights"
      ]
    },
    {
      "cell_type": "markdown",
      "metadata": {},
      "source": [
        "###### The predictions given by multiplying the X and params"
      ]
    },
    {
      "cell_type": "code",
      "execution_count": 7,
      "metadata": {
        "colab": {
          "base_uri": "https://localhost:8080/"
        },
        "id": "QJ4q0OFIsOqt",
        "outputId": "a41de2d1-1064-4287-8bef-679710845963"
      },
      "outputs": [
        {
          "data": {
            "text/plain": [
              "array([[ 5.99959789],\n",
              "       [ 6.99972182],\n",
              "       [ 7.99984574],\n",
              "       [ 8.99996967],\n",
              "       [10.00009359]])"
            ]
          },
          "execution_count": 7,
          "metadata": {},
          "output_type": "execute_result"
        }
      ],
      "source": [
        "predictions = X @ weights\n",
        "predictions"
      ]
    }
  ],
  "metadata": {
    "colab": {
      "provenance": []
    },
    "kernelspec": {
      "display_name": "Python 3",
      "name": "python3"
    },
    "language_info": {
      "name": "python"
    }
  },
  "nbformat": 4,
  "nbformat_minor": 0
}
