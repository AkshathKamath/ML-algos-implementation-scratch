{
  "nbformat": 4,
  "nbformat_minor": 0,
  "metadata": {
    "colab": {
      "provenance": []
    },
    "kernelspec": {
      "name": "python3",
      "display_name": "Python 3"
    },
    "language_info": {
      "name": "python"
    }
  },
  "cells": [
    {
      "cell_type": "code",
      "execution_count": 1,
      "metadata": {
        "id": "d-pAaiBWWQsy"
      },
      "outputs": [],
      "source": [
        "import numpy as np"
      ]
    },
    {
      "cell_type": "code",
      "source": [
        "X = np.array([[0, 0, 0],\n",
        "              [0, 1, 1],\n",
        "              [1, 0, 1],\n",
        "              [1, 1, 1],\n",
        "              [0.5, 0.5, 0.5],\n",
        "              [0.8, 0.2, 0.3]])\n",
        "\n",
        "Y = np.array([[0],\n",
        "              [0],\n",
        "              [0],\n",
        "              [1],\n",
        "              [0],\n",
        "              [1]])\n",
        "print(X) ## NxM matrix\n",
        "print(\"\")\n",
        "print(Y) ## Nx1 matrix"
      ],
      "metadata": {
        "colab": {
          "base_uri": "https://localhost:8080/"
        },
        "id": "AmPQmn0vWUXZ",
        "outputId": "190a8121-adbd-43d6-d9d6-ff176b4b406a"
      },
      "execution_count": 2,
      "outputs": [
        {
          "output_type": "stream",
          "name": "stdout",
          "text": [
            "[[0.  0.  0. ]\n",
            " [0.  1.  1. ]\n",
            " [1.  0.  1. ]\n",
            " [1.  1.  1. ]\n",
            " [0.5 0.5 0.5]\n",
            " [0.8 0.2 0.3]]\n",
            "\n",
            "[[0]\n",
            " [0]\n",
            " [0]\n",
            " [1]\n",
            " [0]\n",
            " [1]]\n"
          ]
        }
      ]
    },
    {
      "cell_type": "markdown",
      "source": [
        "#### Implementation of Basic Perceptron"
      ],
      "metadata": {
        "id": "3IIjYouTayC1"
      }
    },
    {
      "cell_type": "code",
      "source": [
        "##Adding X0 column of ones\n",
        "X = np.c_[np.ones((X.shape[0], 1)), X]\n",
        "X ## NxM+1 matrix"
      ],
      "metadata": {
        "colab": {
          "base_uri": "https://localhost:8080/"
        },
        "id": "OblS-6WCWYFy",
        "outputId": "1d96cf69-6244-4ef7-c47a-a1c8101b7331"
      },
      "execution_count": 3,
      "outputs": [
        {
          "output_type": "execute_result",
          "data": {
            "text/plain": [
              "array([[1. , 0. , 0. , 0. ],\n",
              "       [1. , 0. , 1. , 1. ],\n",
              "       [1. , 1. , 0. , 1. ],\n",
              "       [1. , 1. , 1. , 1. ],\n",
              "       [1. , 0.5, 0.5, 0.5],\n",
              "       [1. , 0.8, 0.2, 0.3]])"
            ]
          },
          "metadata": {},
          "execution_count": 3
        }
      ]
    },
    {
      "cell_type": "code",
      "source": [
        "learning_rate = 0.2\n",
        "n_iterations = 1000\n",
        "m = X.shape[1] ##No. of features(M+1)\n",
        "n = X.shape[0] ##No. of training samples(N)"
      ],
      "metadata": {
        "id": "S3uHyUGYXb0W"
      },
      "execution_count": 16,
      "outputs": []
    },
    {
      "cell_type": "code",
      "source": [
        "##Initialize random weights\n",
        "weights = np.random.rand(m, 1)\n",
        "weights.shape ## mx1 matrix"
      ],
      "metadata": {
        "colab": {
          "base_uri": "https://localhost:8080/"
        },
        "id": "ENxduTJ9X-X2",
        "outputId": "19d06b7e-b06c-4ca3-f0c4-8075855a5190"
      },
      "execution_count": 17,
      "outputs": [
        {
          "output_type": "execute_result",
          "data": {
            "text/plain": [
              "(4, 1)"
            ]
          },
          "metadata": {},
          "execution_count": 17
        }
      ]
    },
    {
      "cell_type": "code",
      "source": [
        "def perceptron_function(z):\n",
        "  return np.where(z >= 0, 1, 0)"
      ],
      "metadata": {
        "id": "DHjwostUdVLw"
      },
      "execution_count": 18,
      "outputs": []
    },
    {
      "cell_type": "code",
      "source": [
        "for _ in range(n_iterations):\n",
        "  ## Batch Grad ascent\n",
        "  weights = weights + learning_rate * (X.T @ (Y - (perceptron_function(X @ weights)))) ## theta = theta + alpha*((y - predicition) * X)\n",
        "weights"
      ],
      "metadata": {
        "colab": {
          "base_uri": "https://localhost:8080/"
        },
        "id": "NXXGp6s_YV9U",
        "outputId": "f9914fd6-22b7-4b63-ca26-3b344550e48e"
      },
      "execution_count": 19,
      "outputs": [
        {
          "output_type": "execute_result",
          "data": {
            "text/plain": [
              "array([[-0.66254957],\n",
              "       [ 1.06566588],\n",
              "       [ 0.67897172],\n",
              "       [-0.44695126]])"
            ]
          },
          "metadata": {},
          "execution_count": 19
        }
      ]
    },
    {
      "cell_type": "code",
      "source": [
        "predictions = X @ weights\n",
        "predictions"
      ],
      "metadata": {
        "colab": {
          "base_uri": "https://localhost:8080/"
        },
        "id": "7AuR7AMFaFAL",
        "outputId": "e800078c-76e5-449c-c98b-5f0c1591d42f"
      },
      "execution_count": 20,
      "outputs": [
        {
          "output_type": "execute_result",
          "data": {
            "text/plain": [
              "array([[-0.66254957],\n",
              "       [-0.43052911],\n",
              "       [-0.04383495],\n",
              "       [ 0.63513677],\n",
              "       [-0.0137064 ],\n",
              "       [ 0.1916921 ]])"
            ]
          },
          "metadata": {},
          "execution_count": 20
        }
      ]
    },
    {
      "cell_type": "code",
      "source": [
        "predictions = (predictions >= 0.5).astype(int)\n",
        "predictions"
      ],
      "metadata": {
        "colab": {
          "base_uri": "https://localhost:8080/"
        },
        "id": "pS2VSQfTd8Kv",
        "outputId": "7fa8a690-67de-462e-94ca-3676b44aae0e"
      },
      "execution_count": 21,
      "outputs": [
        {
          "output_type": "execute_result",
          "data": {
            "text/plain": [
              "array([[0],\n",
              "       [0],\n",
              "       [0],\n",
              "       [1],\n",
              "       [0],\n",
              "       [0]])"
            ]
          },
          "metadata": {},
          "execution_count": 21
        }
      ]
    }
  ]
}