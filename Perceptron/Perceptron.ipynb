{
  "cells": [
    {
      "cell_type": "code",
      "execution_count": 1,
      "metadata": {
        "id": "d-pAaiBWWQsy"
      },
      "outputs": [],
      "source": [
        "import numpy as np"
      ]
    },
    {
      "cell_type": "code",
      "execution_count": 2,
      "metadata": {
        "colab": {
          "base_uri": "https://localhost:8080/"
        },
        "id": "AmPQmn0vWUXZ",
        "outputId": "190a8121-adbd-43d6-d9d6-ff176b4b406a"
      },
      "outputs": [
        {
          "name": "stdout",
          "output_type": "stream",
          "text": [
            "[[0.  0.  0. ]\n",
            " [0.  1.  1. ]\n",
            " [1.  0.  1. ]\n",
            " [1.  1.  1. ]\n",
            " [0.5 0.5 0.5]\n",
            " [0.8 0.2 0.3]]\n",
            "\n",
            "[[0]\n",
            " [0]\n",
            " [0]\n",
            " [1]\n",
            " [0]\n",
            " [1]]\n"
          ]
        }
      ],
      "source": [
        "X = np.array([[0, 0, 0],\n",
        "              [0, 1, 1],\n",
        "              [1, 0, 1],\n",
        "              [1, 1, 1],\n",
        "              [0.5, 0.5, 0.5],\n",
        "              [0.8, 0.2, 0.3]])\n",
        "\n",
        "Y = np.array([[0],\n",
        "              [0],\n",
        "              [0],\n",
        "              [1],\n",
        "              [0],\n",
        "              [1]])\n",
        "print(X) \n",
        "print(\"\")\n",
        "print(Y) "
      ]
    },
    {
      "cell_type": "markdown",
      "metadata": {},
      "source": [
        "###### X is a NxM matrix and Y is a Nx1 matrix"
      ]
    },
    {
      "cell_type": "markdown",
      "metadata": {
        "id": "3IIjYouTayC1"
      },
      "source": [
        "#### Implementation of Basic Perceptron"
      ]
    },
    {
      "cell_type": "markdown",
      "metadata": {},
      "source": [
        "###### We add the column of X0 where all X0s are 1s to X so that the matrix multiplication in the next steps becomes easier. This makes X a NxM+1 matrix"
      ]
    },
    {
      "cell_type": "code",
      "execution_count": 3,
      "metadata": {
        "colab": {
          "base_uri": "https://localhost:8080/"
        },
        "id": "OblS-6WCWYFy",
        "outputId": "1d96cf69-6244-4ef7-c47a-a1c8101b7331"
      },
      "outputs": [
        {
          "data": {
            "text/plain": [
              "array([[1. , 0. , 0. , 0. ],\n",
              "       [1. , 0. , 1. , 1. ],\n",
              "       [1. , 1. , 0. , 1. ],\n",
              "       [1. , 1. , 1. , 1. ],\n",
              "       [1. , 0.5, 0.5, 0.5],\n",
              "       [1. , 0.8, 0.2, 0.3]])"
            ]
          },
          "execution_count": 3,
          "metadata": {},
          "output_type": "execute_result"
        }
      ],
      "source": [
        "##Adding X0 column of ones\n",
        "X = np.c_[np.ones((X.shape[0], 1)), X]\n",
        "X ## NxM+1 matrix"
      ]
    },
    {
      "cell_type": "markdown",
      "metadata": {},
      "source": [
        "###### We set our initial learning rate. We can play around with this rate, to control the amount of gradient descent has effect on params. Larger rate makes the descent rapid but can cause cost to sway other way, where as smaller rate can cause the gradient descent steps to have very less effect.\n",
        "###### We set the number of iterations as well. Can play around till the cost is minimized after a point.\n",
        "###### Updated m = M+1 and n = N"
      ]
    },
    {
      "cell_type": "code",
      "execution_count": 16,
      "metadata": {
        "id": "S3uHyUGYXb0W"
      },
      "outputs": [],
      "source": [
        "learning_rate = 0.2\n",
        "n_iterations = 1000\n",
        "m = X.shape[1] ##No. of features(M+1)\n",
        "n = X.shape[0] ##No. of training samples(N)"
      ]
    },
    {
      "cell_type": "markdown",
      "metadata": {},
      "source": [
        "###### Setting the initial params values. Can set all to 0 as well."
      ]
    },
    {
      "cell_type": "code",
      "execution_count": 17,
      "metadata": {
        "colab": {
          "base_uri": "https://localhost:8080/"
        },
        "id": "ENxduTJ9X-X2",
        "outputId": "19d06b7e-b06c-4ca3-f0c4-8075855a5190"
      },
      "outputs": [
        {
          "data": {
            "text/plain": [
              "(4, 1)"
            ]
          },
          "execution_count": 17,
          "metadata": {},
          "output_type": "execute_result"
        }
      ],
      "source": [
        "##Initialize random weights\n",
        "weights = np.random.rand(m, 1)\n",
        "weights.shape ## mx1 matrix"
      ]
    },
    {
      "cell_type": "markdown",
      "metadata": {},
      "source": [
        "###### Defining the perceptron function"
      ]
    },
    {
      "cell_type": "code",
      "execution_count": 18,
      "metadata": {
        "id": "DHjwostUdVLw"
      },
      "outputs": [],
      "source": [
        "def perceptron_function(z):\n",
        "  return np.where(z >= 0, 1, 0)"
      ]
    },
    {
      "cell_type": "markdown",
      "metadata": {},
      "source": [
        "###### Parametes update rule similar to gradient descent of Logistic Regression"
      ]
    },
    {
      "cell_type": "code",
      "execution_count": 19,
      "metadata": {
        "colab": {
          "base_uri": "https://localhost:8080/"
        },
        "id": "NXXGp6s_YV9U",
        "outputId": "f9914fd6-22b7-4b63-ca26-3b344550e48e"
      },
      "outputs": [
        {
          "data": {
            "text/plain": [
              "array([[-0.66254957],\n",
              "       [ 1.06566588],\n",
              "       [ 0.67897172],\n",
              "       [-0.44695126]])"
            ]
          },
          "execution_count": 19,
          "metadata": {},
          "output_type": "execute_result"
        }
      ],
      "source": [
        "for _ in range(n_iterations):\n",
        "  ## Batch Grad ascent\n",
        "  weights = weights + learning_rate * (X.T @ (Y - (perceptron_function(X @ weights)))) ## theta = theta + alpha*((y - predicition) * X)\n",
        "weights"
      ]
    },
    {
      "cell_type": "markdown",
      "metadata": {},
      "source": [
        "###### The predictions given by multiplying the X and params"
      ]
    },
    {
      "cell_type": "code",
      "execution_count": 20,
      "metadata": {
        "colab": {
          "base_uri": "https://localhost:8080/"
        },
        "id": "7AuR7AMFaFAL",
        "outputId": "e800078c-76e5-449c-c98b-5f0c1591d42f"
      },
      "outputs": [
        {
          "data": {
            "text/plain": [
              "array([[-0.66254957],\n",
              "       [-0.43052911],\n",
              "       [-0.04383495],\n",
              "       [ 0.63513677],\n",
              "       [-0.0137064 ],\n",
              "       [ 0.1916921 ]])"
            ]
          },
          "execution_count": 20,
          "metadata": {},
          "output_type": "execute_result"
        }
      ],
      "source": [
        "predictions = X @ weights\n",
        "predictions"
      ]
    },
    {
      "cell_type": "code",
      "execution_count": 21,
      "metadata": {
        "colab": {
          "base_uri": "https://localhost:8080/"
        },
        "id": "pS2VSQfTd8Kv",
        "outputId": "7fa8a690-67de-462e-94ca-3676b44aae0e"
      },
      "outputs": [
        {
          "data": {
            "text/plain": [
              "array([[0],\n",
              "       [0],\n",
              "       [0],\n",
              "       [1],\n",
              "       [0],\n",
              "       [0]])"
            ]
          },
          "execution_count": 21,
          "metadata": {},
          "output_type": "execute_result"
        }
      ],
      "source": [
        "predictions = (predictions >= 0.5).astype(int)\n",
        "predictions"
      ]
    }
  ],
  "metadata": {
    "colab": {
      "provenance": []
    },
    "kernelspec": {
      "display_name": "Python 3",
      "name": "python3"
    },
    "language_info": {
      "name": "python"
    }
  },
  "nbformat": 4,
  "nbformat_minor": 0
}
