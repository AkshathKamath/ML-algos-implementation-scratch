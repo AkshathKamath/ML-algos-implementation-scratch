{
 "cells": [
  {
   "cell_type": "code",
   "execution_count": 1,
   "metadata": {
    "id": "d-pAaiBWWQsy"
   },
   "outputs": [],
   "source": [
    "import numpy as np"
   ]
  },
  {
   "cell_type": "code",
   "execution_count": 3,
   "metadata": {
    "colab": {
     "base_uri": "https://localhost:8080/"
    },
    "id": "NldGJYOor8fI",
    "outputId": "b7705543-171e-44b0-cbf5-4685d2acb7a1"
   },
   "outputs": [
    {
     "name": "stdout",
     "output_type": "stream",
     "text": [
      "[[ 1  4]\n",
      " [ 2  6]\n",
      " [ 3  8]\n",
      " [ 5  8]\n",
      " [ 6 10]\n",
      " [ 7  1]\n",
      " [ 8  2]\n",
      " [ 9  3]\n",
      " [10  4]\n",
      " [11  5]]\n",
      "\n",
      "[ 1  1  1  1  1 -1 -1 -1 -1 -1]\n"
     ]
    }
   ],
   "source": [
    "## N training examples\n",
    "## M features\n",
    "\n",
    "X = np.array([[1, 4], [2, 6], [3, 8], [5, 8], [6, 10], [7, 1], [8, 2], [9, 3], [10, 4], [11, 5]])\n",
    "y = np.array([1, 1, 1, 1, 1, -1, -1, -1, -1, -1])\n",
    "\n",
    "print(X)\n",
    "print(\"\")\n",
    "print(y)"
   ]
  },
  {
   "cell_type": "code",
   "execution_count": null,
   "metadata": {
    "colab": {
     "base_uri": "https://localhost:8080/"
    },
    "id": "oYRA-agkWx35",
    "outputId": "23f51262-3fcc-480b-8975-0b0381cfa00b"
   },
   "outputs": [
    {
     "name": "stdout",
     "output_type": "stream",
     "text": [
      "10\n",
      "2\n"
     ]
    }
   ],
   "source": [
    "n = X.shape[0] ##No. of training examples\n",
    "m = X.shape[1] ##No. of features\n",
    "\n",
    "print(n)\n",
    "print(m)"
   ]
  },
  {
   "cell_type": "markdown",
   "metadata": {},
   "source": [
    "###### Initialize the parameters. W will be a column vector ideally with shape mX1 but can use numpy shape of (m,) and still perform matrix multiplication and b will be scalar."
   ]
  },
  {
   "cell_type": "code",
   "execution_count": 6,
   "metadata": {
    "colab": {
     "base_uri": "https://localhost:8080/"
    },
    "id": "TANZbo95XRK1",
    "outputId": "f0aabc96-44be-4a4f-b63c-3b3b6ed09025"
   },
   "outputs": [
    {
     "name": "stdout",
     "output_type": "stream",
     "text": [
      "[0. 0.]\n",
      "0\n"
     ]
    }
   ],
   "source": [
    "w = np.zeros(m)\n",
    "b = 0\n",
    "\n",
    "print(w)\n",
    "print(b)"
   ]
  },
  {
   "cell_type": "markdown",
   "metadata": {},
   "source": [
    "###### Hyperparameters"
   ]
  },
  {
   "cell_type": "code",
   "execution_count": 7,
   "metadata": {
    "id": "oIgVQBKtXcsC"
   },
   "outputs": [],
   "source": [
    "learning_rate = 0.001\n",
    "iterations = 1000"
   ]
  },
  {
   "cell_type": "markdown",
   "metadata": {},
   "source": [
    "###### Defining the margin as 1 and any classified points that are not classified within the margin, the params are updated. Ideally should be w.T@X, but we can use numpy property. Calculating the hinge loss as well.\n",
    "###### Parameters are updated after solving the convex optimization problem of minimizing w."
   ]
  },
  {
   "cell_type": "code",
   "execution_count": 11,
   "metadata": {
    "colab": {
     "base_uri": "https://localhost:8080/"
    },
    "id": "ERLwKU3VX6VP",
    "outputId": "92ffebec-4a3b-467f-e885-7183b64f251b"
   },
   "outputs": [
    {
     "name": "stdout",
     "output_type": "stream",
     "text": [
      "Loss: 0.07490250000000005\n",
      "Loss: 0.07490250000000005\n",
      "Loss: 0.07490250000000005\n",
      "Loss: 0.07490250000000005\n",
      "Loss: 0.07490250000000005\n",
      "Loss: 0.07490250000000005\n",
      "Loss: 0.07490250000000005\n",
      "Loss: 0.07490250000000005\n",
      "Loss: 0.07490250000000005\n",
      "Loss: 0.07490250000000005\n",
      "\n",
      "[-0.237  0.306]\n",
      "\n",
      "0.025000000000000015\n"
     ]
    }
   ],
   "source": [
    "for j in range(iterations):\n",
    "  for i in range(n):\n",
    "    if y[i] * (np.dot(w, X[i]) + b) < 1:\n",
    "      w += learning_rate * y[i] * X[i]\n",
    "      b += learning_rate * y[i]\n",
    "\n",
    "  if j % 100 == 0:\n",
    "    margin = 1 - y * (np.dot(X, w) + b)\n",
    "    hinge_loss = np.maximum(0, margin)\n",
    "    loss = 0.5 * np.dot(w, w) + np.sum(hinge_loss)\n",
    "    print(f\"Loss: {loss}\")\n",
    "\n",
    "print(\"\")\n",
    "print(w)\n",
    "print(\"\")\n",
    "print(b)"
   ]
  },
  {
   "cell_type": "markdown",
   "metadata": {},
   "source": [
    "###### Predictions on the data"
   ]
  },
  {
   "cell_type": "code",
   "execution_count": 12,
   "metadata": {
    "colab": {
     "base_uri": "https://localhost:8080/"
    },
    "id": "TeJHELbSZHFi",
    "outputId": "95ac63d9-6cd0-412a-882f-0759bae5facd"
   },
   "outputs": [
    {
     "data": {
      "text/plain": [
       "array([ 1.,  1.,  1.,  1.,  1., -1., -1., -1., -1., -1.])"
      ]
     },
     "execution_count": 12,
     "metadata": {},
     "output_type": "execute_result"
    }
   ],
   "source": [
    "predictions = np.sign(np.dot(X, w) + b)\n",
    "predictions"
   ]
  }
 ],
 "metadata": {
  "colab": {
   "provenance": []
  },
  "kernelspec": {
   "display_name": "Python 3",
   "name": "python3"
  },
  "language_info": {
   "name": "python"
  }
 },
 "nbformat": 4,
 "nbformat_minor": 0
}
