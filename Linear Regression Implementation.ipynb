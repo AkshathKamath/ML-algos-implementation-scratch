{
  "cells": [
    {
      "cell_type": "code",
      "execution_count": 1,
      "metadata": {
        "id": "d-pAaiBWWQsy"
      },
      "outputs": [],
      "source": [
        "import numpy as np"
      ]
    },
    {
      "cell_type": "code",
      "execution_count": 25,
      "metadata": {
        "colab": {
          "base_uri": "https://localhost:8080/"
        },
        "id": "AmPQmn0vWUXZ",
        "outputId": "280476a5-342a-4769-9bd9-5b935ab2a02a"
      },
      "outputs": [
        {
          "name": "stdout",
          "output_type": "stream",
          "text": [
            "[[1 2 3]\n",
            " [2 3 4]\n",
            " [3 4 5]\n",
            " [4 5 6]\n",
            " [5 6 7]]\n",
            "[[ 6]\n",
            " [ 7]\n",
            " [ 8]\n",
            " [ 9]\n",
            " [10]]\n"
          ]
        }
      ],
      "source": [
        "X = np.array([[1, 2, 3],\n",
        "              [2, 3, 4],\n",
        "              [3, 4, 5],\n",
        "              [4, 5, 6],\n",
        "              [5, 6, 7]])\n",
        "\n",
        "Y = Y = np.array([[6],\n",
        "              [7],\n",
        "              [8],\n",
        "              [9],\n",
        "              [10]])\n",
        "print(X)\n",
        "print(Y) ## Nx1 matrix"
      ]
    },
    {
      "cell_type": "markdown",
      "metadata": {
        "id": "3IIjYouTayC1"
      },
      "source": [
        "#### Implementation of Linear Regression with minimizing Least Square error cost"
      ]
    },
    {
      "cell_type": "code",
      "execution_count": 26,
      "metadata": {
        "colab": {
          "base_uri": "https://localhost:8080/"
        },
        "id": "OblS-6WCWYFy",
        "outputId": "5cac392e-9fd8-45bb-e89c-4a122713e428"
      },
      "outputs": [
        {
          "data": {
            "text/plain": [
              "array([[1., 1., 2., 3.],\n",
              "       [1., 2., 3., 4.],\n",
              "       [1., 3., 4., 5.],\n",
              "       [1., 4., 5., 6.],\n",
              "       [1., 5., 6., 7.]])"
            ]
          },
          "execution_count": 26,
          "metadata": {},
          "output_type": "execute_result"
        }
      ],
      "source": [
        "##Adding X0 column of ones\n",
        "X = np.c_[np.ones((X.shape[0], 1)), X]\n",
        "X ## NxM matrix"
      ]
    },
    {
      "cell_type": "code",
      "execution_count": 27,
      "metadata": {
        "id": "S3uHyUGYXb0W"
      },
      "outputs": [],
      "source": [
        "learning_rate = 0.005\n",
        "n_iterations = 1000\n",
        "m = X.shape[1] ##No. of features\n",
        "n = X.shape[0] ##No. of training samples"
      ]
    },
    {
      "cell_type": "code",
      "execution_count": 28,
      "metadata": {
        "colab": {
          "base_uri": "https://localhost:8080/"
        },
        "id": "ENxduTJ9X-X2",
        "outputId": "b58ac0f8-f54b-47ee-bd87-52d3aa4cbfc8"
      },
      "outputs": [
        {
          "data": {
            "text/plain": [
              "(4, 1)"
            ]
          },
          "execution_count": 28,
          "metadata": {},
          "output_type": "execute_result"
        }
      ],
      "source": [
        "##Initialize random weights\n",
        "weights = np.random.rand(m, 1)\n",
        "weights.shape ## Mx1 matrix"
      ]
    },
    {
      "cell_type": "code",
      "execution_count": 29,
      "metadata": {
        "colab": {
          "base_uri": "https://localhost:8080/"
        },
        "id": "NXXGp6s_YV9U",
        "outputId": "768bf6a7-b467-402b-dd65-b70ce6fdb5d9"
      },
      "outputs": [
        {
          "data": {
            "text/plain": [
              "array([[ 2.17145661],\n",
              "       [-0.46659609],\n",
              "       [ 0.10618608],\n",
              "       [ 1.36069087]])"
            ]
          },
          "execution_count": 29,
          "metadata": {},
          "output_type": "execute_result"
        }
      ],
      "source": [
        "for _ in range(n_iterations):\n",
        "  weights = weights -  learning_rate * (X.T @ ((X @ weights) - Y)) ## theta = theta - alpha*((prediction - y) * X)\n",
        "weights"
      ]
    },
    {
      "cell_type": "code",
      "execution_count": 30,
      "metadata": {
        "colab": {
          "base_uri": "https://localhost:8080/"
        },
        "id": "7AuR7AMFaFAL",
        "outputId": "1c335d3e-d978-4759-88d5-b9dc5e560c24"
      },
      "outputs": [
        {
          "data": {
            "text/plain": [
              "array([[ 5.99930529],\n",
              "       [ 6.99958614],\n",
              "       [ 7.999867  ],\n",
              "       [ 9.00014786],\n",
              "       [10.00042872]])"
            ]
          },
          "execution_count": 30,
          "metadata": {},
          "output_type": "execute_result"
        }
      ],
      "source": [
        "predictions = X @ weights\n",
        "predictions"
      ]
    }
  ],
  "metadata": {
    "colab": {
      "provenance": []
    },
    "kernelspec": {
      "display_name": "Python 3",
      "name": "python3"
    },
    "language_info": {
      "name": "python"
    }
  },
  "nbformat": 4,
  "nbformat_minor": 0
}
