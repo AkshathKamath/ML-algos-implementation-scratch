{
  "nbformat": 4,
  "nbformat_minor": 0,
  "metadata": {
    "colab": {
      "provenance": []
    },
    "kernelspec": {
      "name": "python3",
      "display_name": "Python 3"
    },
    "language_info": {
      "name": "python"
    }
  },
  "cells": [
    {
      "cell_type": "code",
      "execution_count": 1,
      "metadata": {
        "id": "d-pAaiBWWQsy"
      },
      "outputs": [],
      "source": [
        "import numpy as np"
      ]
    },
    {
      "cell_type": "code",
      "source": [
        "np.random.seed(0)\n",
        "X0 = np.random.multivariate_normal(mean=[2, 2, 2], cov=[[1, 0.5, 0.2], [0.5, 1, 0.3], [0.2, 0.3, 1]], size = 7) ##Gaussian distributed X given y = 0\n",
        "X1 = np.random.multivariate_normal(mean=[5, 5, 5], cov=[[1, 0.5, 0.2], [0.5, 1, 0.3], [0.2, 0.3, 1]], size = 7) ##Gaussian distributed X given y = 1\n",
        "\n",
        "print(X0)\n",
        "print(\"\")\n",
        "print(X1)"
      ],
      "metadata": {
        "colab": {
          "base_uri": "https://localhost:8080/"
        },
        "id": "XoBZe6ZsdSJ1",
        "outputId": "c7e51490-d50b-4ce3-957f-4b4f790e1e98"
      },
      "execution_count": 23,
      "outputs": [
        {
          "output_type": "stream",
          "name": "stdout",
          "text": [
            "[[ 1.21952488  0.08536063  0.74918613]\n",
            " [ 0.56474659  0.94944851 -0.940868  ]\n",
            " [ 1.14122611  1.22965173  1.53819741]\n",
            " [ 2.39620462  0.93114436  1.82122062]\n",
            " [ 1.65195447  1.15396082  1.50339609]\n",
            " [ 2.26395423  2.08651144  0.59243765]\n",
            " [ 0.23974459  2.90403439  2.1707248 ]]\n",
            "\n",
            "[[4.50657382 4.98495662 3.83233137]\n",
            " [2.62751024 2.81827337 4.79787181]\n",
            " [6.45081235 4.66726315 4.08200365]\n",
            " [4.63180216 5.39353484 4.49751206]\n",
            " [6.48831059 6.52061014 6.48048261]\n",
            " [4.3532483  4.37722419 3.26387309]\n",
            " [4.15851316 5.80249346 5.8339699 ]]\n"
          ]
        }
      ]
    },
    {
      "cell_type": "code",
      "source": [
        "X = np.vstack((X0, X1))  ##Features\n",
        "Y = np.hstack((np.zeros(7), np.ones(7))) ##Output classes\n",
        "\n",
        "print(X)\n",
        "print(X.shape)\n",
        "print(\"\")\n",
        "print(Y)\n",
        "print(Y.shape)"
      ],
      "metadata": {
        "colab": {
          "base_uri": "https://localhost:8080/"
        },
        "id": "wpH8xMQfdn0D",
        "outputId": "0cbcd1a0-ecff-4f74-f849-6c07c1a29e2d"
      },
      "execution_count": 24,
      "outputs": [
        {
          "output_type": "stream",
          "name": "stdout",
          "text": [
            "[[ 1.21952488  0.08536063  0.74918613]\n",
            " [ 0.56474659  0.94944851 -0.940868  ]\n",
            " [ 1.14122611  1.22965173  1.53819741]\n",
            " [ 2.39620462  0.93114436  1.82122062]\n",
            " [ 1.65195447  1.15396082  1.50339609]\n",
            " [ 2.26395423  2.08651144  0.59243765]\n",
            " [ 0.23974459  2.90403439  2.1707248 ]\n",
            " [ 4.50657382  4.98495662  3.83233137]\n",
            " [ 2.62751024  2.81827337  4.79787181]\n",
            " [ 6.45081235  4.66726315  4.08200365]\n",
            " [ 4.63180216  5.39353484  4.49751206]\n",
            " [ 6.48831059  6.52061014  6.48048261]\n",
            " [ 4.3532483   4.37722419  3.26387309]\n",
            " [ 4.15851316  5.80249346  5.8339699 ]]\n",
            "(14, 3)\n",
            "\n",
            "[0. 0. 0. 0. 0. 0. 0. 1. 1. 1. 1. 1. 1. 1.]\n",
            "(14,)\n"
          ]
        }
      ]
    },
    {
      "cell_type": "code",
      "source": [
        "phi = np.mean(Y)\n",
        "phi"
      ],
      "metadata": {
        "colab": {
          "base_uri": "https://localhost:8080/"
        },
        "id": "WHbM79C2jsvR",
        "outputId": "a2b2cd0e-d1b4-4065-ccd8-a9b8d7109dd8"
      },
      "execution_count": 25,
      "outputs": [
        {
          "output_type": "execute_result",
          "data": {
            "text/plain": [
              "0.5"
            ]
          },
          "metadata": {},
          "execution_count": 25
        }
      ]
    },
    {
      "cell_type": "code",
      "source": [
        "mu0 = np.mean(X[Y == 0], axis=0)\n",
        "mu1 = np.mean(X[Y == 1], axis=0)\n",
        "\n",
        "print(mu0)\n",
        "print(\"\")\n",
        "print(mu1)"
      ],
      "metadata": {
        "colab": {
          "base_uri": "https://localhost:8080/"
        },
        "id": "lRMdq6Crd1rB",
        "outputId": "634cba68-f533-4776-e9f8-d6760d7b2f35"
      },
      "execution_count": 26,
      "outputs": [
        {
          "output_type": "stream",
          "name": "stdout",
          "text": [
            "[1.35390793 1.3343017  1.0620421 ]\n",
            "\n",
            "[4.74525295 4.93776511 4.68400636]\n"
          ]
        }
      ]
    },
    {
      "cell_type": "code",
      "source": [
        "n = len(Y)\n",
        "Sigma = np.zeros((X.shape[1], X.shape[1]))\n",
        "\n",
        "for i in range(n):\n",
        "    if Y[i] == 0:\n",
        "        diff = (X[i] - mu0).reshape(-1, 1)\n",
        "    else:\n",
        "        diff = (X[i] - mu1).reshape(-1, 1)\n",
        "    Sigma += diff @ diff.T\n",
        "\n",
        "Sigma /= n\n",
        "Sigma"
      ],
      "metadata": {
        "colab": {
          "base_uri": "https://localhost:8080/"
        },
        "id": "jdsGAOa2i5PI",
        "outputId": "9a940143-02a1-4b54-e6c6-7354f289d64f"
      },
      "execution_count": 27,
      "outputs": [
        {
          "output_type": "execute_result",
          "data": {
            "text/plain": [
              "array([[1.06647238, 0.38507262, 0.19653479],\n",
              "       [0.38507262, 0.94904182, 0.4673911 ],\n",
              "       [0.19653479, 0.4673911 , 1.01850909]])"
            ]
          },
          "metadata": {},
          "execution_count": 27
        }
      ]
    },
    {
      "cell_type": "code",
      "source": [
        "def gaussian_pdf(x, mu, sigma):\n",
        "    n = mu.shape[0]\n",
        "    coeff = 1 / (np.sqrt(((2 * np.pi) ** n) * np.linalg.det(sigma)))\n",
        "    exp_term = np.exp(-0.5 * (x - mu).T @ np.linalg.inv(sigma) @ (x - mu))\n",
        "    return coeff * exp_term"
      ],
      "metadata": {
        "id": "PYS1Nz_Bl0kE"
      },
      "execution_count": 28,
      "outputs": []
    },
    {
      "cell_type": "code",
      "source": [
        "def predict(X):\n",
        "  predictions = []\n",
        "  for i in range(X.shape[0]):\n",
        "      ##pdf P(X | Y=0) and P(X | Y=1)\n",
        "      p_x_given_y0 = gaussian_pdf(X[i], mu0, Sigma)\n",
        "      p_x_given_y1 = gaussian_pdf(X[i], mu1, Sigma)\n",
        "\n",
        "      ##Posterior probabilities P(Y=0 | X) and P(Y=1 | X) by using Bayes' rule\n",
        "      p_y0_given_x = p_x_given_y0 * (1 - phi)\n",
        "      p_y1_given_x = p_x_given_y1 * phi\n",
        "\n",
        "      ##Assign label based on which posterior is higher\n",
        "      if p_y1_given_x > p_y0_given_x:\n",
        "          predictions.append(1)\n",
        "      else:\n",
        "          predictions.append(0)\n",
        "\n",
        "  return np.array(predictions)"
      ],
      "metadata": {
        "id": "em-6JVTVnlX3"
      },
      "execution_count": 31,
      "outputs": []
    },
    {
      "cell_type": "code",
      "source": [
        "predict(X)"
      ],
      "metadata": {
        "colab": {
          "base_uri": "https://localhost:8080/"
        },
        "id": "EtcBNBFQoUbL",
        "outputId": "9ec5a038-cf5f-40e7-d5c4-7d55179e554e"
      },
      "execution_count": 32,
      "outputs": [
        {
          "output_type": "execute_result",
          "data": {
            "text/plain": [
              "array([0, 0, 0, 0, 0, 0, 0, 1, 1, 1, 1, 1, 1, 1])"
            ]
          },
          "metadata": {},
          "execution_count": 32
        }
      ]
    }
  ]
}