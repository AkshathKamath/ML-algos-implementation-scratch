{
  "cells": [
    {
      "cell_type": "code",
      "execution_count": null,
      "metadata": {
        "id": "d-pAaiBWWQsy"
      },
      "outputs": [],
      "source": [
        "import numpy as np"
      ]
    },
    {
      "cell_type": "markdown",
      "metadata": {},
      "source": [
        "###### Defining the features X which need to be binary and the output Y"
      ]
    },
    {
      "cell_type": "code",
      "execution_count": null,
      "metadata": {
        "colab": {
          "base_uri": "https://localhost:8080/"
        },
        "id": "Wm3n4brfc4Gm",
        "outputId": "1816db34-3dbf-4480-94a4-ce67a6721c1b"
      },
      "outputs": [
        {
          "name": "stdout",
          "output_type": "stream",
          "text": [
            "[[1 0 1]\n",
            " [1 1 0]\n",
            " [1 0 0]\n",
            " [0 1 1]\n",
            " [0 1 1]\n",
            " [1 1 1]]\n",
            "\n",
            "[0 0 0 1 1 1]\n"
          ]
        }
      ],
      "source": [
        "X = np.array([[1, 0, 1],\n",
        "              [1, 1, 0],\n",
        "              [1, 0, 0],\n",
        "              [0, 1, 1],\n",
        "              [0, 1, 1],\n",
        "              [1, 1, 1]])\n",
        "\n",
        "y = np.array([0, 0, 0, 1, 1, 1])\n",
        "\n",
        "print(X)\n",
        "print(\"\")\n",
        "print(y)"
      ]
    },
    {
      "cell_type": "markdown",
      "metadata": {},
      "source": [
        "###### Phi is the probability of a positive sample in our data"
      ]
    },
    {
      "cell_type": "code",
      "execution_count": null,
      "metadata": {
        "colab": {
          "base_uri": "https://localhost:8080/"
        },
        "id": "hKHT9oyddC7R",
        "outputId": "d6fa32cf-dd4f-4771-a0ff-3b3e1d4f3bfe"
      },
      "outputs": [
        {
          "data": {
            "text/plain": [
              "0.5"
            ]
          },
          "execution_count": 13,
          "metadata": {},
          "output_type": "execute_result"
        }
      ],
      "source": [
        "phi = np.mean(y == 1)\n",
        "phi"
      ]
    },
    {
      "cell_type": "markdown",
      "metadata": {},
      "source": [
        "###### The mean of the Xs each for Y = 0 and Y = 1. Added +1 to numerator and +2 to denominator as Laplace Smoothing"
      ]
    },
    {
      "cell_type": "code",
      "execution_count": null,
      "metadata": {
        "colab": {
          "base_uri": "https://localhost:8080/"
        },
        "id": "9d0ejhw_dN1b",
        "outputId": "b15f06e8-1c20-4d1a-d268-04a75047e935"
      },
      "outputs": [
        {
          "name": "stdout",
          "output_type": "stream",
          "text": [
            "[0.4 0.8 0.8]\n",
            "\n",
            "[0.8 0.4 0.4]\n"
          ]
        }
      ],
      "source": [
        "phi_given_y1 = (np.sum(X[y == 1], axis = 0) + 1) / (np.sum(y == 1) + 2)\n",
        "phi_given_y0 = (np.sum(X[y == 0], axis = 0) + 1) / (np.sum(y == 0) + 2)\n",
        "\n",
        "print(phi_given_y1)\n",
        "print(\"\")\n",
        "print(phi_given_y0)"
      ]
    },
    {
      "cell_type": "markdown",
      "metadata": {},
      "source": [
        "###### Calculating the posterior probabilites"
      ]
    },
    {
      "cell_type": "code",
      "execution_count": null,
      "metadata": {
        "id": "t4bwU9NGd_03"
      },
      "outputs": [],
      "source": [
        "def prediction(X):\n",
        "  predictions = []\n",
        "\n",
        "  P_x_given_y1 = np.prod(np.where(X == 1, phi_given_y1, 1 - phi_given_y1))\n",
        "  P_x_given_y0 = np.prod(np.where(X == 1, phi_given_y0, 1 - phi_given_y0))\n",
        "\n",
        "  ## Bayes' Theorum\n",
        "  P_y1_given_x = P_x_given_y1 * phi\n",
        "  P_y0_given_x = P_x_given_y0 * (1 - phi)\n",
        "\n",
        "  if(P_y1_given_x > P_y0_given_x):\n",
        "    return 1\n",
        "  else:\n",
        "    return 0"
      ]
    },
    {
      "cell_type": "code",
      "execution_count": null,
      "metadata": {
        "colab": {
          "base_uri": "https://localhost:8080/"
        },
        "id": "u0V3lBTklmfj",
        "outputId": "16c0b5c1-5149-439a-dc5e-252b41de3cb9"
      },
      "outputs": [
        {
          "data": {
            "text/plain": [
              "0"
            ]
          },
          "execution_count": 16,
          "metadata": {},
          "output_type": "execute_result"
        }
      ],
      "source": [
        "X = np.array([1, 0, 1])\n",
        "prediction(X)"
      ]
    }
  ],
  "metadata": {
    "colab": {
      "provenance": []
    },
    "kernelspec": {
      "display_name": "Python 3",
      "name": "python3"
    },
    "language_info": {
      "name": "python"
    }
  },
  "nbformat": 4,
  "nbformat_minor": 0
}
