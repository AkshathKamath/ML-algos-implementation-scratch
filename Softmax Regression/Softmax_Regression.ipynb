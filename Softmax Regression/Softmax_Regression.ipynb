{
  "cells": [
    {
      "cell_type": "code",
      "execution_count": 1,
      "metadata": {
        "id": "d-pAaiBWWQsy"
      },
      "outputs": [],
      "source": [
        "import numpy as np"
      ]
    },
    {
      "cell_type": "code",
      "execution_count": 2,
      "metadata": {
        "colab": {
          "base_uri": "https://localhost:8080/"
        },
        "id": "NldGJYOor8fI",
        "outputId": "97e90da9-7166-4f93-9ad5-9eecee5e48d6"
      },
      "outputs": [
        {
          "output_type": "stream",
          "name": "stdout",
          "text": [
            "[[ 1.2  3.1]\n",
            " [ 1.5  2.8]\n",
            " [ 1.1  3.3]\n",
            " [ 4.  -1.2]\n",
            " [ 4.2 -1. ]\n",
            " [ 3.8 -0.8]\n",
            " [-2.5  4. ]\n",
            " [-2.3  4.2]\n",
            " [-2.6  3.8]\n",
            " [-2.4  4.1]]\n",
            "\n",
            "[0 0 0 1 1 1 2 2 2 2]\n"
          ]
        }
      ],
      "source": [
        "## N training examples\n",
        "## M features\n",
        "\n",
        "X = np.array([\n",
        "    [1.2, 3.1],\n",
        "    [1.5, 2.8],\n",
        "    [1.1, 3.3],\n",
        "    [4.0, -1.2],\n",
        "    [4.2, -1.0],\n",
        "    [3.8, -0.8],\n",
        "    [-2.5, 4.0],\n",
        "    [-2.3, 4.2],\n",
        "    [-2.6, 3.8],\n",
        "    [-2.4, 4.1]\n",
        "])\n",
        "\n",
        "y = np.array([0, 0, 0, 1, 1, 1, 2, 2, 2, 2])\n",
        "print(X)\n",
        "print(\"\")\n",
        "print(y)"
      ]
    },
    {
      "cell_type": "code",
      "execution_count": 3,
      "metadata": {
        "colab": {
          "base_uri": "https://localhost:8080/"
        },
        "id": "hmnA0r_7F0u1",
        "outputId": "39ca0d09-a039-4231-89aa-b868437ba0da"
      },
      "outputs": [
        {
          "output_type": "stream",
          "name": "stdout",
          "text": [
            "10\n",
            "2\n",
            "3\n"
          ]
        }
      ],
      "source": [
        "n = X.shape[0]\n",
        "m = X.shape[1]\n",
        "classes = 3\n",
        "print(n) ## No. of training examples\n",
        "print(m) ## No. of features\n",
        "print(classes) ## No. of classes of y"
      ]
    },
    {
      "cell_type": "markdown",
      "metadata": {
        "id": "ayd_VVmT_IC4"
      },
      "source": [
        "###### Initializing the parameters. W will be a mXk matrix where every class will have its own column vector of weights and b will be a 1Xk matrix where every class will have its own bias"
      ]
    },
    {
      "cell_type": "code",
      "execution_count": 4,
      "metadata": {
        "colab": {
          "base_uri": "https://localhost:8080/"
        },
        "id": "wqhJANAgI-qe",
        "outputId": "d5651fcc-696f-407a-dde3-641a5485da50"
      },
      "outputs": [
        {
          "output_type": "stream",
          "name": "stdout",
          "text": [
            "[[0. 0. 0.]\n",
            " [0. 0. 0.]]\n",
            "(2, 3)\n",
            "\n",
            "[[0. 0. 0.]]\n",
            "(1, 3)\n"
          ]
        }
      ],
      "source": [
        "W = np.zeros((m, classes))\n",
        "b = np.zeros((1, classes))\n",
        "print(W)\n",
        "print(W.shape)\n",
        "print(\"\")\n",
        "print(b)\n",
        "print(b.shape)"
      ]
    },
    {
      "cell_type": "markdown",
      "metadata": {
        "id": "YvNWlS1f_IC5"
      },
      "source": [
        "###### The softmax function"
      ]
    },
    {
      "cell_type": "code",
      "execution_count": 5,
      "metadata": {
        "id": "WdfeOYtDJMdC"
      },
      "outputs": [],
      "source": [
        "def softmax(z):\n",
        "  exp = np.exp(z)\n",
        "  return exp/np.sum(exp, axis = 1, keepdims = True)"
      ]
    },
    {
      "cell_type": "markdown",
      "metadata": {
        "id": "Hhf-HBOA_IC5"
      },
      "source": [
        "###### Defining hyperparameters"
      ]
    },
    {
      "cell_type": "code",
      "execution_count": 6,
      "metadata": {
        "id": "XKHpuINsKDLo"
      },
      "outputs": [],
      "source": [
        "n_iterations = 1000\n",
        "learning_rate = 0.1"
      ]
    },
    {
      "cell_type": "markdown",
      "metadata": {
        "id": "rMrp2zn4_IC6"
      },
      "source": [
        "###### Training the model using gradient descent."
      ]
    },
    {
      "cell_type": "code",
      "execution_count": 10,
      "metadata": {
        "colab": {
          "base_uri": "https://localhost:8080/"
        },
        "id": "9tPoYzj4LbTk",
        "outputId": "912f5c23-466d-4954-a44a-deb51970e68b"
      },
      "outputs": [
        {
          "output_type": "stream",
          "name": "stdout",
          "text": [
            "0.001971544236339901\n",
            "0.0018782500235573194\n",
            "0.001793423602009459\n",
            "0.0017159607955223317\n",
            "0.0016449414972185227\n",
            "0.001579592839650206\n",
            "0.0015192608686111805\n",
            "0.0014633885147398364\n",
            "0.001411498287630889\n",
            "0.0013631785519672849\n",
            "\n",
            "[[ 0.97005596  1.9105679  -2.88062386]\n",
            " [ 1.1952037  -1.78999448  0.59479078]]\n",
            "\n",
            "[[-0.11425388  0.18583719 -0.07158331]]\n"
          ]
        }
      ],
      "source": [
        "for i in range(n_iterations):\n",
        "  pred = np.dot(X, W) + b\n",
        "  pred = softmax(pred)\n",
        "\n",
        "  y_true = np.zeros_like(pred)\n",
        "  y_true[np.arange(n), y] = 1 ## For every example gives which class it belngs to like [0, 0, 1] for class 2\n",
        "\n",
        "  loss = -np.mean(np.log(pred[range(n), y])) ## Loss function\n",
        "  if(i%100 == 0):\n",
        "    print(loss)\n",
        "\n",
        "  dW = (1/n) * np.dot(X.T, (pred - y_true))\n",
        "  db = (1/n) * np.sum(pred - y_true, axis=0, keepdims=True)\n",
        "\n",
        "  W -= learning_rate * dW ## Gradient Descent\n",
        "  b -= learning_rate * db\n",
        "\n",
        "print(\"\")\n",
        "print(W)\n",
        "print(\"\")\n",
        "print(b)"
      ]
    },
    {
      "cell_type": "markdown",
      "metadata": {
        "id": "MRIZ9DXL_IC6"
      },
      "source": [
        "###### Predicting on train data to verify"
      ]
    },
    {
      "cell_type": "code",
      "execution_count": null,
      "metadata": {
        "colab": {
          "base_uri": "https://localhost:8080/"
        },
        "id": "mNOA1wAozVIC",
        "outputId": "b6f14f16-fec8-4cfe-a6f2-5219e6ecb0eb"
      },
      "outputs": [
        {
          "data": {
            "text/plain": [
              "array([0, 0, 0, 1, 1, 1, 2, 2, 2, 2])"
            ]
          },
          "execution_count": 8,
          "metadata": {},
          "output_type": "execute_result"
        }
      ],
      "source": [
        "y_pred = np.dot(X, W) + b\n",
        "y_pred = softmax(y_pred)\n",
        "np.argmax(y_pred, axis = 1)"
      ]
    }
  ],
  "metadata": {
    "colab": {
      "provenance": []
    },
    "kernelspec": {
      "display_name": "Python 3",
      "name": "python3"
    },
    "language_info": {
      "name": "python"
    }
  },
  "nbformat": 4,
  "nbformat_minor": 0
}