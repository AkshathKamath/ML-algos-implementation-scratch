{
  "nbformat": 4,
  "nbformat_minor": 0,
  "metadata": {
    "colab": {
      "provenance": []
    },
    "kernelspec": {
      "name": "python3",
      "display_name": "Python 3"
    },
    "language_info": {
      "name": "python"
    }
  },
  "cells": [
    {
      "cell_type": "code",
      "execution_count": 1,
      "metadata": {
        "id": "d-pAaiBWWQsy"
      },
      "outputs": [],
      "source": [
        "import numpy as np"
      ]
    },
    {
      "cell_type": "code",
      "source": [
        "## N training examples\n",
        "## M features\n",
        "\n",
        "X = np.array([\n",
        "    [1.2, 3.1],\n",
        "    [1.5, 2.8],\n",
        "    [1.1, 3.3],\n",
        "    [4.0, -1.2],\n",
        "    [4.2, -1.0],\n",
        "    [3.8, -0.8],\n",
        "    [-2.5, 4.0],\n",
        "    [-2.3, 4.2],\n",
        "    [-2.6, 3.8],\n",
        "    [-2.4, 4.1]\n",
        "])\n",
        "\n",
        "y = np.array([0, 0, 0, 1, 1, 1, 2, 2, 2, 2])\n",
        "print(X)\n",
        "print(\"\")\n",
        "print(y)"
      ],
      "metadata": {
        "colab": {
          "base_uri": "https://localhost:8080/"
        },
        "id": "NldGJYOor8fI",
        "outputId": "2018faf9-cb79-4f2b-ba92-fdb67e8ae9aa"
      },
      "execution_count": 2,
      "outputs": [
        {
          "output_type": "stream",
          "name": "stdout",
          "text": [
            "[[ 1.2  3.1]\n",
            " [ 1.5  2.8]\n",
            " [ 1.1  3.3]\n",
            " [ 4.  -1.2]\n",
            " [ 4.2 -1. ]\n",
            " [ 3.8 -0.8]\n",
            " [-2.5  4. ]\n",
            " [-2.3  4.2]\n",
            " [-2.6  3.8]\n",
            " [-2.4  4.1]]\n",
            "\n",
            "[0 0 0 1 1 1 2 2 2 2]\n"
          ]
        }
      ]
    },
    {
      "cell_type": "code",
      "source": [
        "n = X.shape[0]\n",
        "m = X.shape[1]\n",
        "classes = 3\n",
        "print(n) ## No. of training examples\n",
        "print(m) ## No. of features\n",
        "print(classes) ## No. of classes of y"
      ],
      "metadata": {
        "colab": {
          "base_uri": "https://localhost:8080/"
        },
        "id": "hmnA0r_7F0u1",
        "outputId": "fb81c936-a3bf-43de-b225-3eac5d102e51"
      },
      "execution_count": 3,
      "outputs": [
        {
          "output_type": "stream",
          "name": "stdout",
          "text": [
            "10\n",
            "2\n",
            "3\n"
          ]
        }
      ]
    },
    {
      "cell_type": "code",
      "source": [
        "W = np.zeros((m, classes))\n",
        "b = np.zeros((1, classes))\n",
        "print(W)\n",
        "print(W.shape)\n",
        "print(\"\")\n",
        "print(b)\n",
        "print(b.shape)"
      ],
      "metadata": {
        "colab": {
          "base_uri": "https://localhost:8080/"
        },
        "id": "wqhJANAgI-qe",
        "outputId": "fdde4dfd-ce27-4034-f82e-2cfbab01fe7a"
      },
      "execution_count": 4,
      "outputs": [
        {
          "output_type": "stream",
          "name": "stdout",
          "text": [
            "[[0. 0. 0.]\n",
            " [0. 0. 0.]]\n",
            "(2, 3)\n",
            "\n",
            "[[0. 0. 0.]]\n",
            "(1, 3)\n"
          ]
        }
      ]
    },
    {
      "cell_type": "code",
      "source": [
        "def softmax(z):\n",
        "  exp = np.exp(z)\n",
        "  return exp/np.sum(exp, axis = 1, keepdims = True)"
      ],
      "metadata": {
        "id": "WdfeOYtDJMdC"
      },
      "execution_count": 5,
      "outputs": []
    },
    {
      "cell_type": "code",
      "source": [
        "n_iterations = 1000\n",
        "learning_rate = 0.1"
      ],
      "metadata": {
        "id": "XKHpuINsKDLo"
      },
      "execution_count": 6,
      "outputs": []
    },
    {
      "cell_type": "code",
      "source": [
        "for _ in range(n_iterations):\n",
        "  pred = np.dot(X, W) + b\n",
        "  pred = softmax(pred)\n",
        "\n",
        "  y_true = np.zeros_like(pred)\n",
        "  y_true[np.arange(n), y] = 1\n",
        "\n",
        "  dW = (1/n) * np.dot(X.T, (pred - y_true))\n",
        "  db = (1/n) * np.sum(pred - y_true, axis=0, keepdims=True)\n",
        "\n",
        "  W -= learning_rate * dW\n",
        "  b -= learning_rate * db\n",
        "\n",
        "print(W)\n",
        "print(b)"
      ],
      "metadata": {
        "colab": {
          "base_uri": "https://localhost:8080/"
        },
        "id": "9tPoYzj4LbTk",
        "outputId": "7b5dad0c-7bc8-489a-a6a5-a2d71ab3e294"
      },
      "execution_count": 7,
      "outputs": [
        {
          "output_type": "stream",
          "name": "stdout",
          "text": [
            "[[ 0.80790298  1.59659178 -2.40449476]\n",
            " [ 1.00277162 -1.51578546  0.51301384]]\n",
            "[[-0.08670276  0.1460243  -0.05932154]]\n"
          ]
        }
      ]
    },
    {
      "cell_type": "code",
      "source": [
        "y_pred = np.dot(X, W) + b\n",
        "y_pred = softmax(y_pred)\n",
        "np.argmax(y_pred, axis = 1)"
      ],
      "metadata": {
        "colab": {
          "base_uri": "https://localhost:8080/"
        },
        "id": "mNOA1wAozVIC",
        "outputId": "b6f14f16-fec8-4cfe-a6f2-5219e6ecb0eb"
      },
      "execution_count": 8,
      "outputs": [
        {
          "output_type": "execute_result",
          "data": {
            "text/plain": [
              "array([0, 0, 0, 1, 1, 1, 2, 2, 2, 2])"
            ]
          },
          "metadata": {},
          "execution_count": 8
        }
      ]
    }
  ]
}